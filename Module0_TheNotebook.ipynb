{
 "cells": [
  {
   "cell_type": "markdown",
   "metadata": {},
   "source": [
    "# CrashDS\n",
    "\n",
    "**Welcome to the World of Data Science with Python!** \n",
    "\n",
    "This is a crash course in Data Science, with Jupyter Notebook as the User Interface. I hope you'll like the experience. -- [Sourav Sen Gupta](http://souravsengupta.com/)\n",
    "\n",
    "Python has two flavors -- Python 2 and Python 3. This set of examples are in Python 3, written and executed in the beautifully simple IDE Jupyter Notebook. Note that Jupyter has set up a `localhost:8888` server to render the notebook in your computer's browser. It can render anything now -- should be fun!\n",
    "\n",
    "Once you are familiar with the Jupyter Notebook environment, and the basic Python syntax, feel free to explore the following Data Science Modules.\n",
    "\n",
    "> [Module 1](Module1_DataExploration.ipynb) : Data Exploration  \n",
    "> [Module 2](Module2_LinearRegression.ipynb) : Linear Regression   \n",
    "> [Module 3](Module3_ClassificationTree.ipynb) : Classification Tree   \n",
    "> [Module 4](Module4_BiasVariance.ipynb) : Bias Variance Trade-Off   \n",
    "> [Module 5](Module5_PlotlyGraphics.ipynb) : Graphics in Plotly\n",
    "\n",
    "\n",
    "This material is heavilly inspired by the two wonderful books -- [Introduction to Statistical Learning](https://www.statlearning.com) and [Python Data Science Handbook](https://jakevdp.github.io/PythonDataScienceHandbook/). I highly encourage anyone interested in hands-on Data Science to read these two books thoroughly. This material also borrows some ideas from the [Python Notebooks for ISLR](https://github.com/JWarmenhoven/ISLR-python).\n",
    "\n",
    "**License Declaration** : Following the lead from the inspirations for this material, and the *spirit* of Python education and development, all modules of this work are licensed under the Creative Commons Attribution 3.0 Unported License. To view a copy of this license, visit http://creativecommons.org/licenses/by/3.0/.\n",
    "\n",
    "---"
   ]
  },
  {
   "cell_type": "markdown",
   "metadata": {},
   "source": [
    "## Cells in the Notebook\n",
    "\n",
    "Notebook is a collection of Cells that can execute. The cell below is a 'Code' cell, and it can execute Python code. This particular text-block is also a Cell in the Notebook, and it can render 'Markdown' code. You may press \"SHIFT+ENTER\" to execute a specific Cell, and it will execute either Python or Markdown."
   ]
  },
  {
   "cell_type": "code",
   "execution_count": null,
   "metadata": {},
   "outputs": [],
   "source": [
    "# This is a typical Cell in the Notebook; it can execute\n",
    "# This particular Cell is a 'Code' cell; executes Python"
   ]
  },
  {
   "cell_type": "code",
   "execution_count": null,
   "metadata": {},
   "outputs": [],
   "source": [
    "# Execute to Print\n",
    "print(\"Hello World\")"
   ]
  },
  {
   "cell_type": "code",
   "execution_count": null,
   "metadata": {},
   "outputs": [],
   "source": [
    "# Execute to Compute\n",
    "1+2"
   ]
  },
  {
   "cell_type": "code",
   "execution_count": null,
   "metadata": {},
   "outputs": [],
   "source": [
    "# Execute to Compute and Print\n",
    "print(1+2)"
   ]
  },
  {
   "cell_type": "code",
   "execution_count": null,
   "metadata": {},
   "outputs": [],
   "source": [
    "# The Commented parts in a Cell do not Execute\n",
    "print(\"Hello\", 1+2)           # Inline comment"
   ]
  },
  {
   "cell_type": "markdown",
   "metadata": {},
   "source": [
    "---\n",
    "\n",
    "## Basic Syntax\n",
    "\n",
    "You may write simple Python expressions and commands in the Cells to start with. The basic syntax should abide by the following rules.\n",
    "\n",
    "- No extra space. Statements should start at the beginning of the line, unless you need indentation for control (discussed later).\n",
    "- Statements always finish at the end of a line, unless there is an open bracket, or a `\\` marker for continuation to a new line.\n",
    "- Single-Line Comments always start with the `#` character, which indicates that the rest of the line is a comment in Python.\n",
    "- You may also have a Multi-Line Comment, using the `'''` tag, which are generally used for Documentation in Python.\n",
    "- Variable Names should not start with Numbers or Special Characters, and please stay away of the Python Keywords.\n",
    "\n",
    "Further details on *good practices* of Python programming : https://docs.python-guide.org/writing/style/"
   ]
  },
  {
   "cell_type": "code",
   "execution_count": null,
   "metadata": {},
   "outputs": [],
   "source": [
    "# Fine\n",
    "print(\"Hello\")\n",
    "print(\"World!\")"
   ]
  },
  {
   "cell_type": "code",
   "execution_count": null,
   "metadata": {},
   "outputs": [],
   "source": [
    "# Illegal\n",
    "print(\"Hello\")\n",
    "    print(\"World!\")"
   ]
  },
  {
   "cell_type": "code",
   "execution_count": null,
   "metadata": {},
   "outputs": [],
   "source": [
    "# Fine\n",
    "1 + 2 + 3"
   ]
  },
  {
   "cell_type": "code",
   "execution_count": null,
   "metadata": {},
   "outputs": [],
   "source": [
    "# Illegal in general\n",
    "1 + 2\n",
    "  + 3"
   ]
  },
  {
   "cell_type": "code",
   "execution_count": null,
   "metadata": {},
   "outputs": [],
   "source": [
    "# Fine with open bracket\n",
    "(1 + 2\n",
    "   + 3)"
   ]
  },
  {
   "cell_type": "code",
   "execution_count": null,
   "metadata": {},
   "outputs": [],
   "source": [
    "# Fine with newline marker\n",
    "1 + 2 \\\n",
    "  + 3"
   ]
  },
  {
   "cell_type": "code",
   "execution_count": null,
   "metadata": {},
   "outputs": [],
   "source": [
    "'''This is a Multi-Line Comment in Python\n",
    "   Used quite often for Documentation'''\n",
    "print(\"Hello World!\")"
   ]
  },
  {
   "cell_type": "markdown",
   "metadata": {},
   "source": [
    "---\n",
    "\n",
    "## Getting Help\n",
    "\n",
    "To get help on anything in Python, use the `help()` command. Note that it continues executing unless you Stop it from the menubar."
   ]
  },
  {
   "cell_type": "code",
   "execution_count": null,
   "metadata": {
    "scrolled": false
   },
   "outputs": [],
   "source": [
    "help()"
   ]
  },
  {
   "cell_type": "code",
   "execution_count": null,
   "metadata": {},
   "outputs": [],
   "source": []
  },
  {
   "cell_type": "code",
   "execution_count": null,
   "metadata": {},
   "outputs": [],
   "source": []
  },
  {
   "cell_type": "code",
   "execution_count": null,
   "metadata": {},
   "outputs": [],
   "source": []
  }
 ],
 "metadata": {
  "kernelspec": {
   "display_name": "Python 3",
   "language": "python",
   "name": "python3"
  },
  "language_info": {
   "codemirror_mode": {
    "name": "ipython",
    "version": 3
   },
   "file_extension": ".py",
   "mimetype": "text/x-python",
   "name": "python",
   "nbconvert_exporter": "python",
   "pygments_lexer": "ipython3",
   "version": "3.8.8"
  }
 },
 "nbformat": 4,
 "nbformat_minor": 2
}
