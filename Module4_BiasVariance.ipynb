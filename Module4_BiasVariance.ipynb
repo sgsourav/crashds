{
 "cells": [
  {
   "cell_type": "markdown",
   "metadata": {},
   "source": [
    "# CrashDS\n",
    "\n",
    "#### Module 4 : Bias Variance\n",
    "\n",
    "Dataset from ISLR by *James et al.* : `Advertising.csv`         \n",
    "Source: https://www.statlearning.com/resources-first-edition     \n",
    "\n",
    "---\n",
    "\n",
    "### Essential Libraries\n",
    "\n",
    "Let us begin by importing the essential Python Libraries.    \n",
    "You may install any library using `conda install <library>`.    \n",
    "Most of the libraries come by default with the Anaconda platform.\n",
    "\n",
    "> NumPy : Library for Numeric Computations in Python  \n",
    "> Pandas : Library for Data Acquisition and Preparation  \n",
    "> Matplotlib : Low-level library for Data Visualization  \n",
    "> Seaborn : Higher-level library for Data Visualization  "
   ]
  },
  {
   "cell_type": "code",
   "execution_count": null,
   "metadata": {},
   "outputs": [],
   "source": [
    "# Basic Libraries\n",
    "import numpy as np\n",
    "import pandas as pd\n",
    "import seaborn as sb\n",
    "import matplotlib.pyplot as plt # we only need pyplot\n",
    "sb.set() # set the default Seaborn style for graphics"
   ]
  },
  {
   "cell_type": "markdown",
   "metadata": {},
   "source": [
    "We will also need the essential Python libraries for (basic) Machine Learning.      \n",
    "Scikit-Learn (`sklearn`) will be our de-facto Machine Learning library in Python.   \n",
    "\n",
    "> `LinearRegression` model from `sklearn.linear_model` : Our main model for Regression   \n",
    "> `train_test_split` method from `sklearn.model_selection` : Random Train-Test splits     \n",
    "> `mean_squared_error` metric from `sklearn.metrics` : Primary performance metric for us "
   ]
  },
  {
   "cell_type": "code",
   "execution_count": null,
   "metadata": {},
   "outputs": [],
   "source": [
    "# Import essential models and functions from sklearn\n",
    "from sklearn.linear_model import LinearRegression\n",
    "from sklearn.model_selection import train_test_split\n",
    "from sklearn.metrics import mean_squared_error"
   ]
  },
  {
   "cell_type": "code",
   "execution_count": null,
   "metadata": {},
   "outputs": [],
   "source": []
  },
  {
   "cell_type": "code",
   "execution_count": null,
   "metadata": {},
   "outputs": [],
   "source": []
  },
  {
   "cell_type": "markdown",
   "metadata": {},
   "source": [
    "---\n",
    "\n",
    "## Case Study : Advertising Budget vs Sales\n",
    "\n",
    "\n",
    "### Import the Dataset\n",
    "\n",
    "The dataset is in CSV format; hence we use the `read_csv` function from Pandas.  \n",
    "Immediately after importing, take a quick look at the data using the `head` function."
   ]
  },
  {
   "cell_type": "code",
   "execution_count": null,
   "metadata": {},
   "outputs": [],
   "source": [
    "# Load the CSV file and check the format\n",
    "advData = pd.read_csv('Advertising.csv')\n",
    "advData.head()"
   ]
  },
  {
   "cell_type": "markdown",
   "metadata": {},
   "source": [
    "Check the vital statistics of the dataset using the `type` and `shape` attributes.     \n",
    "Check the variables (and their types) in the dataset using the `info()` method."
   ]
  },
  {
   "cell_type": "code",
   "execution_count": null,
   "metadata": {},
   "outputs": [],
   "source": [
    "print(\"Data type : \", type(advData))\n",
    "print(\"Data dims : \", advData.shape)\n",
    "advData.info()"
   ]
  },
  {
   "cell_type": "code",
   "execution_count": null,
   "metadata": {},
   "outputs": [],
   "source": []
  },
  {
   "cell_type": "markdown",
   "metadata": {},
   "source": [
    "### Format the Dataset\n",
    "\n",
    "Drop the `Unnamed: 0` column as it contributes nothing to the problem.   \n",
    "Rename the other columns for homogeneity in nomenclature and style.      \n",
    "\n",
    "Check the format and vital statistics of the modified dataframe.     \n"
   ]
  },
  {
   "cell_type": "code",
   "execution_count": null,
   "metadata": {},
   "outputs": [],
   "source": [
    "# Drop the first column (axis = 1) by its name\n",
    "advData = advData.drop('Unnamed: 0', axis = 1)\n",
    "\n",
    "# Rename the other columns as per your choice\n",
    "advData = advData.rename(columns={\"TV\": \"TV\", \"radio\": \"RD\", \"newspaper\" : \"NP\", \"sales\" : \"Sales\"})\n",
    "\n",
    "# Check the modified dataset\n",
    "advData.info()"
   ]
  },
  {
   "cell_type": "code",
   "execution_count": null,
   "metadata": {},
   "outputs": [],
   "source": []
  },
  {
   "cell_type": "markdown",
   "metadata": {},
   "source": [
    "### Explore Mutual Relationship of Variables\n",
    "\n",
    "So far, we never considered the *mutual dependence* of the variables. Let us study that for a moment. "
   ]
  },
  {
   "cell_type": "code",
   "execution_count": null,
   "metadata": {},
   "outputs": [],
   "source": [
    "sb.pairplot(data = advData, height = 2)"
   ]
  },
  {
   "cell_type": "code",
   "execution_count": null,
   "metadata": {},
   "outputs": [],
   "source": [
    "# Heatmap of the Correlation Matrix\n",
    "cormat = advData.corr()\n",
    "\n",
    "f, axes = plt.subplots(1, 1, figsize=(16, 12))\n",
    "sb.heatmap(cormat, vmin = -1, vmax = 1, linewidths = 1,\n",
    "           annot = True, fmt = \".2f\", annot_kws = {\"size\": 18}, cmap = \"RdBu\")\n",
    "\n",
    "plt.show()"
   ]
  },
  {
   "cell_type": "code",
   "execution_count": null,
   "metadata": {},
   "outputs": [],
   "source": []
  },
  {
   "cell_type": "markdown",
   "metadata": {},
   "source": [
    "### Create a Function for Linear Regression\n",
    "\n",
    "Let us write a generic function to perform Linear Regression, as before.      \n",
    "Our Predictor variable(s) will be $X$ and the Response variable will be $Y$.   \n",
    "\n",
    "> Regression Model : $y$ = $a$ $X$ + $b$  \n",
    "> Train data : (`X_Train`, `y_train`)    \n",
    "> Test data : (`X_test`, `y_test`)"
   ]
  },
  {
   "cell_type": "code",
   "execution_count": null,
   "metadata": {},
   "outputs": [],
   "source": [
    "def performLinearRegression(X_train, y_train, X_test, y_test):\n",
    "    '''\n",
    "        Function to perform Linear Regression with X_Train, y_train,\n",
    "        and test out the performance of the model on X_Test, y_test.\n",
    "    '''    \n",
    "    linreg = LinearRegression()         # create the linear regression object\n",
    "    linreg.fit(X_train, y_train)        # train the linear regression model\n",
    "\n",
    "    # Predict Response corresponding to Predictors\n",
    "    y_train_pred = linreg.predict(X_train)\n",
    "    y_test_pred = linreg.predict(X_test)\n",
    "\n",
    "    # Plot the Predictions vs the True values\n",
    "    f, axes = plt.subplots(1, 2, figsize=(16, 8))\n",
    "    axes[0].scatter(y_train, y_train_pred, color = \"blue\")\n",
    "    axes[0].plot(y_train, y_train, 'w-', linewidth = 1)\n",
    "    axes[0].set_xlabel(\"True values of the Response Variable (Train)\")\n",
    "    axes[0].set_ylabel(\"Predicted values of the Response Variable (Train)\")\n",
    "    axes[1].scatter(y_test, y_test_pred, color = \"green\")\n",
    "    axes[1].plot(y_test, y_test, 'w-', linewidth = 1)\n",
    "    axes[1].set_xlabel(\"True values of the Response Variable (Test)\")\n",
    "    axes[1].set_ylabel(\"Predicted values of the Response Variable (Test)\")\n",
    "    plt.show()\n",
    "\n",
    "    # Check the Goodness of Fit (on Train Data)\n",
    "    print(\"Goodness of Fit of Model \\tTrain Dataset\")\n",
    "    print(\"Explained Variance (R^2) \\t\", linreg.score(X_train, y_train))\n",
    "    print(\"Mean Squared Error (MSE) \\t\", mean_squared_error(y_train, y_train_pred))\n",
    "    print()\n",
    "\n",
    "    # Check the Goodness of Fit (on Test Data)\n",
    "    print(\"Goodness of Fit of Model \\tTest Dataset\")\n",
    "    print(\"Mean Squared Error (MSE) \\t\", mean_squared_error(y_test, y_test_pred))\n",
    "    print()"
   ]
  },
  {
   "cell_type": "code",
   "execution_count": null,
   "metadata": {},
   "outputs": [],
   "source": []
  },
  {
   "cell_type": "markdown",
   "metadata": {},
   "source": [
    "### Fit all possible Linear Models\n",
    "\n",
    "There are 3 Predictors in this dataset, allowing us to create 7 different Regression models.    \n",
    "To compare various models, it's always a good strategy to use the same Train-Test split."
   ]
  },
  {
   "cell_type": "code",
   "execution_count": null,
   "metadata": {
    "scrolled": false
   },
   "outputs": [],
   "source": [
    "# Extract Response and Predictors\n",
    "y = pd.DataFrame(advData[\"Sales\"])\n",
    "X = pd.DataFrame(advData[[\"TV\", \"RD\", \"NP\"]])\n",
    "\n",
    "# Split the Dataset into Train and Test\n",
    "X_train, X_test, y_train, y_test = train_test_split(X, y, test_size = 0.3)\n",
    "\n",
    "# Fit all Linear Models with Train-Test\n",
    "print(\"-------------------------------------------------------------------\")\n",
    "print(\"Regression : Sales vs TV\")\n",
    "performLinearRegression(X_train[['TV']], y_train, X_test[['TV']], y_test)\n",
    "print()\n",
    "print(\"-------------------------------------------------------------------\")\n",
    "print(\"Regression : Sales vs Radio\")\n",
    "performLinearRegression(X_train[['RD']], y_train, X_test[['RD']], y_test)\n",
    "print()\n",
    "print(\"-------------------------------------------------------------------\")\n",
    "print(\"Regression : Sales vs Newspaper\")\n",
    "performLinearRegression(X_train[['NP']], y_train, X_test[['NP']], y_test)\n",
    "print()\n",
    "print(\"-------------------------------------------------------------------\")\n",
    "print(\"Regression : Sales vs TV, Radio\")\n",
    "performLinearRegression(X_train[['TV', 'RD']], y_train, X_test[['TV', 'RD']], y_test)\n",
    "print()\n",
    "print(\"-------------------------------------------------------------------\")\n",
    "print(\"Regression : Sales vs Radio, Newspaper\")\n",
    "performLinearRegression(X_train[['RD', 'NP']], y_train, X_test[['RD', 'NP']], y_test)\n",
    "print()\n",
    "print(\"-------------------------------------------------------------------\")\n",
    "print(\"Regression : Sales vs TV, Newspaper\")\n",
    "performLinearRegression(X_train[['TV', 'NP']], y_train, X_test[['TV', 'NP']], y_test)\n",
    "print()\n",
    "print(\"-------------------------------------------------------------------\")\n",
    "print(\"Regression : Sales vs TV, Radio, Newspaper\")\n",
    "performLinearRegression(X_train[['TV', 'RD', 'NP']], y_train, X_test[['TV', 'RD', 'NP']], y_test)\n",
    "print()\n",
    "print(\"-------------------------------------------------------------------\")"
   ]
  },
  {
   "cell_type": "code",
   "execution_count": null,
   "metadata": {},
   "outputs": [],
   "source": []
  },
  {
   "cell_type": "markdown",
   "metadata": {},
   "source": [
    "---\n",
    "\n",
    "### Benchmark Linear Regression Models\n",
    "\n",
    "Create a generic function that returns the performance figures instead of printing/plotting."
   ]
  },
  {
   "cell_type": "code",
   "execution_count": null,
   "metadata": {},
   "outputs": [],
   "source": [
    "def genericLinearRegression(X_train, y_train, X_test, y_test):\n",
    "    '''\n",
    "        Function to perform Linear Regression with X_Train, y_train,\n",
    "        and test out the performance of the model on X_Test, y_test.\n",
    "    '''    \n",
    "    # Create and Train the Linear Regression Model\n",
    "    linreg = LinearRegression()\n",
    "    linreg.fit(X_train, y_train)\n",
    "\n",
    "    # Predict Response corresponding to Predictors\n",
    "    y_train_pred = linreg.predict(X_train)\n",
    "    y_test_pred = linreg.predict(X_test)\n",
    "\n",
    "    # Return the Mean-Squared-Errors for Train-Test\n",
    "    return mean_squared_error(y_train, y_train_pred), mean_squared_error(y_test, y_test_pred)"
   ]
  },
  {
   "cell_type": "markdown",
   "metadata": {},
   "source": [
    "Extract the Response variable and create all possible Subset of Predictors."
   ]
  },
  {
   "cell_type": "code",
   "execution_count": null,
   "metadata": {},
   "outputs": [],
   "source": [
    "# Extract Response and Predictors\n",
    "y = pd.DataFrame(advData[\"Sales\"])\n",
    "X = pd.DataFrame(advData[[\"TV\", \"RD\", \"NP\"]])\n",
    "\n",
    "# Predictors for the Linear Models\n",
    "predSubsets = [['TV'], ['RD'], ['NP'], \n",
    "               ['TV', 'RD'], ['RD', 'NP'], ['TV', 'NP'],\n",
    "               ['TV', 'RD', 'NP']]"
   ]
  },
  {
   "cell_type": "markdown",
   "metadata": {},
   "source": [
    "Run the generic Linear Regression function on each Subset of Predictors mutiple times."
   ]
  },
  {
   "cell_type": "code",
   "execution_count": null,
   "metadata": {
    "scrolled": false
   },
   "outputs": [],
   "source": [
    "# Storage for Performance Figures\n",
    "performanceDict = dict()\n",
    "\n",
    "# Random Trials\n",
    "numTrial = 100\n",
    "\n",
    "for trial in range(numTrial):\n",
    "    # Create a blank list for the Trial Row\n",
    "    performanceList = list()\n",
    "    \n",
    "    # Split the Dataset into Train and Test\n",
    "    X_train, X_test, y_train, y_test = train_test_split(X, y, test_size = 0.3)\n",
    "\n",
    "    # Fit all Linear Models with Train-Test\n",
    "    for index, preds in enumerate(predSubsets):\n",
    "        mseTrain, mseTest = genericLinearRegression(X_train[preds], y_train, X_test[preds], y_test)\n",
    "        performanceList.extend([mseTrain, mseTest])\n",
    "        \n",
    "    # Append the Trial Row to the Dictionary\n",
    "    performanceDict[trial] = performanceList"
   ]
  },
  {
   "cell_type": "code",
   "execution_count": null,
   "metadata": {},
   "outputs": [],
   "source": [
    "# Convert the Dictionary to a DataFrame\n",
    "performanceData = pd.DataFrame.from_dict(data = performanceDict, orient = 'index',\n",
    "                                         columns = ['Ttrain', 'Ttest', 'Rtrain', 'Rtest', 'Ntrain', 'Ntest',\n",
    "                                                    'TRtrain', 'TRtest', 'RNtrain', 'RNtest', 'TNtrain', 'TNtest',\n",
    "                                                    'TRNtrain', 'TRNtest'])"
   ]
  },
  {
   "cell_type": "code",
   "execution_count": null,
   "metadata": {},
   "outputs": [],
   "source": []
  },
  {
   "cell_type": "markdown",
   "metadata": {},
   "source": [
    "Check the Performance Figures of the 7 different Linear Regression Models."
   ]
  },
  {
   "cell_type": "code",
   "execution_count": null,
   "metadata": {},
   "outputs": [],
   "source": [
    "performanceData.describe()"
   ]
  },
  {
   "cell_type": "code",
   "execution_count": null,
   "metadata": {},
   "outputs": [],
   "source": [
    "performanceData.boxplot(figsize=(16, 8), fontsize = 18, rot = 45)"
   ]
  },
  {
   "cell_type": "code",
   "execution_count": null,
   "metadata": {},
   "outputs": [],
   "source": []
  },
  {
   "cell_type": "markdown",
   "metadata": {},
   "source": [
    "### Interpretation\n",
    "\n",
    "* How do you interpret the boxplots in the figure above?\n",
    "* Which model do you think if the best out of all above?\n",
    "* Why do you think the model is best? Justify carefully."
   ]
  },
  {
   "cell_type": "code",
   "execution_count": null,
   "metadata": {},
   "outputs": [],
   "source": []
  },
  {
   "cell_type": "code",
   "execution_count": null,
   "metadata": {},
   "outputs": [],
   "source": []
  },
  {
   "cell_type": "code",
   "execution_count": null,
   "metadata": {},
   "outputs": [],
   "source": []
  }
 ],
 "metadata": {
  "kernelspec": {
   "display_name": "Python 3",
   "language": "python",
   "name": "python3"
  },
  "language_info": {
   "codemirror_mode": {
    "name": "ipython",
    "version": 3
   },
   "file_extension": ".py",
   "mimetype": "text/x-python",
   "name": "python",
   "nbconvert_exporter": "python",
   "pygments_lexer": "ipython3",
   "version": "3.8.8"
  }
 },
 "nbformat": 4,
 "nbformat_minor": 2
}
