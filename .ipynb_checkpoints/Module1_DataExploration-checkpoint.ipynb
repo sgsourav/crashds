{
 "cells": [
  {
   "cell_type": "markdown",
   "metadata": {},
   "source": [
    "# CrashDS\n",
    "\n",
    "#### Module 1 : Data Exploration\n",
    "\n",
    "Datasets from ISLR by *James et al.* : `Advertising.csv` and `Heart.csv`         \n",
    "Source: http://faculty.marshall.usc.edu/gareth-james/ISL/data.html     \n",
    "\n",
    "---\n",
    "\n",
    "### Essential Libraries\n",
    "\n",
    "Let us begin by importing the essential Python Libraries.    \n",
    "You may install any library using `conda install <library>`.    \n",
    "Most of the libraries come by default with the Anaconda platform.\n",
    "\n",
    "> NumPy : Library for Numeric Computations in Python  \n",
    "> Pandas : Library for Data Acquisition and Preparation  \n",
    "> Matplotlib : Low-level library for Data Visualization  \n",
    "> Seaborn : Higher-level library for Data Visualization  "
   ]
  },
  {
   "cell_type": "code",
   "execution_count": null,
   "metadata": {},
   "outputs": [],
   "source": [
    "# Basic Libraries\n",
    "import numpy as np\n",
    "import pandas as pd\n",
    "import seaborn as sb\n",
    "import matplotlib.pyplot as plt # we only need pyplot\n",
    "sb.set() # set the default Seaborn style for graphics"
   ]
  },
  {
   "cell_type": "code",
   "execution_count": null,
   "metadata": {},
   "outputs": [],
   "source": []
  },
  {
   "cell_type": "code",
   "execution_count": null,
   "metadata": {},
   "outputs": [],
   "source": []
  },
  {
   "cell_type": "markdown",
   "metadata": {},
   "source": [
    "---\n",
    "\n",
    "## Case Study 1 : Advertising Budget vs Sales\n",
    "\n",
    "\n",
    "### Import the Dataset\n",
    "\n",
    "The dataset is in CSV format; hence we use the `read_csv` function from Pandas.  \n",
    "Immediately after importing, take a quick look at the data using the `head` function."
   ]
  },
  {
   "cell_type": "code",
   "execution_count": null,
   "metadata": {},
   "outputs": [],
   "source": [
    "# Load the CSV file and check the format\n",
    "advData = pd.read_csv('Advertising.csv')\n",
    "advData.head()"
   ]
  },
  {
   "cell_type": "markdown",
   "metadata": {},
   "source": [
    "Check the vital statistics of the dataset using the `type` and `shape` attributes."
   ]
  },
  {
   "cell_type": "code",
   "execution_count": null,
   "metadata": {},
   "outputs": [],
   "source": [
    "print(\"Data type : \", type(advData))\n",
    "print(\"Data dims : \", advData.shape)"
   ]
  },
  {
   "cell_type": "markdown",
   "metadata": {},
   "source": [
    "Check the variables (and their types) in the dataset using the `info()` method."
   ]
  },
  {
   "cell_type": "code",
   "execution_count": null,
   "metadata": {},
   "outputs": [],
   "source": [
    "advData.info()"
   ]
  },
  {
   "cell_type": "markdown",
   "metadata": {},
   "source": [
    "*NOTE : At this stage, it is a good practice to study the data description, if available.*"
   ]
  },
  {
   "cell_type": "code",
   "execution_count": null,
   "metadata": {},
   "outputs": [],
   "source": []
  },
  {
   "cell_type": "markdown",
   "metadata": {},
   "source": [
    "### Format the Dataset\n",
    "\n",
    "Drop the `Unnamed: 0` column as it contributes nothing to the problem.   "
   ]
  },
  {
   "cell_type": "code",
   "execution_count": null,
   "metadata": {},
   "outputs": [],
   "source": [
    "# Drop the first column (axis = 1) by its name\n",
    "advData = advData.drop('Unnamed: 0', axis = 1)"
   ]
  },
  {
   "cell_type": "markdown",
   "metadata": {},
   "source": [
    "Rename the other columns for homogeneity in nomenclature and style.   "
   ]
  },
  {
   "cell_type": "code",
   "execution_count": null,
   "metadata": {},
   "outputs": [],
   "source": [
    "# Rename the other columns as per your choice\n",
    "advData = advData.rename(columns={\"TV\": \"TV\", \"radio\": \"RD\", \"newspaper\" : \"NP\", \"sales\" : \"Sales\"})"
   ]
  },
  {
   "cell_type": "markdown",
   "metadata": {},
   "source": [
    "Check the format and vital statistics of the modified dataframe."
   ]
  },
  {
   "cell_type": "code",
   "execution_count": null,
   "metadata": {},
   "outputs": [],
   "source": [
    "advData.head()"
   ]
  },
  {
   "cell_type": "code",
   "execution_count": null,
   "metadata": {},
   "outputs": [],
   "source": [
    "advData.info()"
   ]
  },
  {
   "cell_type": "code",
   "execution_count": null,
   "metadata": {},
   "outputs": [],
   "source": []
  },
  {
   "cell_type": "markdown",
   "metadata": {},
   "source": [
    "### Uni-Variate Exploration\n",
    "\n",
    "Let us take `Sales` as our target variable for the Uni-Variate analysis.    \n",
    "Check the Summary Statistics of Uni-Variate Series using `describe`."
   ]
  },
  {
   "cell_type": "code",
   "execution_count": null,
   "metadata": {},
   "outputs": [],
   "source": [
    "advData[\"Sales\"].describe()"
   ]
  },
  {
   "cell_type": "markdown",
   "metadata": {},
   "source": [
    "Check the Summary Statistics visually using a standard `boxplot`."
   ]
  },
  {
   "cell_type": "code",
   "execution_count": null,
   "metadata": {},
   "outputs": [],
   "source": [
    "f = plt.figure(figsize=(16, 2))\n",
    "sb.boxplot(advData[\"Sales\"], orient = \"h\")"
   ]
  },
  {
   "cell_type": "markdown",
   "metadata": {},
   "source": [
    "Extend the summary to visualize the complete distribution of the Series.  \n",
    "The first visualization is a simple Histogram with automatic bin sizes."
   ]
  },
  {
   "cell_type": "code",
   "execution_count": null,
   "metadata": {},
   "outputs": [],
   "source": [
    "f = plt.figure(figsize=(16, 8))\n",
    "sb.distplot(advData[\"Sales\"], kde = False)"
   ]
  },
  {
   "cell_type": "markdown",
   "metadata": {},
   "source": [
    "The generic `distplot` produces both the Histogram and the Kernel Density Estimate."
   ]
  },
  {
   "cell_type": "code",
   "execution_count": null,
   "metadata": {},
   "outputs": [],
   "source": [
    "f = plt.figure(figsize=(16, 8))\n",
    "sb.distplot(advData[\"Sales\"])"
   ]
  },
  {
   "cell_type": "markdown",
   "metadata": {},
   "source": [
    "Finally, the `violinplot` combines the Boxplot with the Kernel Density Estimate."
   ]
  },
  {
   "cell_type": "code",
   "execution_count": null,
   "metadata": {},
   "outputs": [],
   "source": [
    "f = plt.figure(figsize=(16, 8))\n",
    "sb.violinplot(advData[\"Sales\"])"
   ]
  },
  {
   "cell_type": "code",
   "execution_count": null,
   "metadata": {},
   "outputs": [],
   "source": []
  },
  {
   "cell_type": "markdown",
   "metadata": {},
   "source": [
    "### Multi-Variate Exploration\n",
    "\n",
    "Quick way to check Uni-Variate Summary Statistics for all variables in the dataset is as follows."
   ]
  },
  {
   "cell_type": "code",
   "execution_count": null,
   "metadata": {
    "scrolled": true
   },
   "outputs": [],
   "source": [
    "# Check summary statistics of all variables\n",
    "advData.describe()"
   ]
  },
  {
   "cell_type": "markdown",
   "metadata": {},
   "source": [
    "The following piece of code is a quick way to visualize the Uni-Variate plots for all variables."
   ]
  },
  {
   "cell_type": "code",
   "execution_count": null,
   "metadata": {},
   "outputs": [],
   "source": [
    "# Draw the distributions of all variables\n",
    "f, axes = plt.subplots(4, 3, figsize=(18, 16))\n",
    "colors = [\"r\", \"g\", \"b\", \"m\"]\n",
    "\n",
    "count = 0\n",
    "for var in advData:\n",
    "    sb.boxplot(advData[var], orient = \"h\", color = colors[count], ax = axes[count,0])\n",
    "    sb.distplot(advData[var], color = colors[count], ax = axes[count,1])\n",
    "    sb.violinplot(advData[var], color = colors[count], ax = axes[count,2])\n",
    "    count += 1"
   ]
  },
  {
   "cell_type": "code",
   "execution_count": null,
   "metadata": {},
   "outputs": [],
   "source": []
  },
  {
   "cell_type": "markdown",
   "metadata": {},
   "source": [
    "However, for multi-variate analysis, we need to know mutual relations.     \n",
    "Check the Pearson Correlation between the variables using `corr()`."
   ]
  },
  {
   "cell_type": "code",
   "execution_count": null,
   "metadata": {},
   "outputs": [],
   "source": [
    "# Correlation Matrix\n",
    "cormat = advData.corr()\n",
    "print(cormat)"
   ]
  },
  {
   "cell_type": "code",
   "execution_count": null,
   "metadata": {},
   "outputs": [],
   "source": [
    "# Heatmap of the Correlation Matrix\n",
    "cormat = advData.corr()\n",
    "\n",
    "f, axes = plt.subplots(1, 1, figsize=(16, 12))\n",
    "sb.heatmap(cormat, vmin = -1, vmax = 1, linewidths = 1,\n",
    "           annot = True, fmt = \".2f\", annot_kws = {\"size\": 18}, cmap = \"RdBu\")\n",
    "axes.set_ylim(len(cormat), 0)  # temporary fix for heatmap\n",
    "plt.show()"
   ]
  },
  {
   "cell_type": "code",
   "execution_count": null,
   "metadata": {},
   "outputs": [],
   "source": []
  },
  {
   "cell_type": "markdown",
   "metadata": {},
   "source": [
    "Let us consider `Sales` against `TV` first, as they show the largest correlation."
   ]
  },
  {
   "cell_type": "code",
   "execution_count": null,
   "metadata": {},
   "outputs": [],
   "source": [
    "# 2D scatterplot of two variables to observe their relationship\n",
    "f = plt.figure(figsize=(16, 8))\n",
    "sb.scatterplot(x = \"TV\", y = \"Sales\", data = advData)"
   ]
  },
  {
   "cell_type": "markdown",
   "metadata": {},
   "source": [
    "Next, let us consider `Sales` against `RD`, with the second largest correlation."
   ]
  },
  {
   "cell_type": "code",
   "execution_count": null,
   "metadata": {},
   "outputs": [],
   "source": [
    "# 2D scatterplot of two variables to observe their relationship\n",
    "f = plt.figure(figsize=(16, 8))\n",
    "sb.scatterplot(x = \"RD\", y = \"Sales\", data = advData)"
   ]
  },
  {
   "cell_type": "markdown",
   "metadata": {},
   "source": [
    "Finally, let us consider `Sales` against `NP`, with the minimum correlation value."
   ]
  },
  {
   "cell_type": "code",
   "execution_count": null,
   "metadata": {
    "scrolled": false
   },
   "outputs": [],
   "source": [
    "# 2D scatterplot of two variables to observe their relationship\n",
    "f = plt.figure(figsize=(16, 8))\n",
    "sb.scatterplot(x = \"NP\", y = \"Sales\", data = advData)"
   ]
  },
  {
   "cell_type": "code",
   "execution_count": null,
   "metadata": {},
   "outputs": [],
   "source": []
  },
  {
   "cell_type": "markdown",
   "metadata": {},
   "source": [
    "You may also explore a pairwise scatterplot between all variables in the dataset."
   ]
  },
  {
   "cell_type": "code",
   "execution_count": null,
   "metadata": {},
   "outputs": [],
   "source": [
    "# Draw pairs of variables against one another\n",
    "sb.pairplot(data = advData, height = 4)"
   ]
  },
  {
   "cell_type": "code",
   "execution_count": null,
   "metadata": {},
   "outputs": [],
   "source": []
  },
  {
   "cell_type": "code",
   "execution_count": null,
   "metadata": {},
   "outputs": [],
   "source": []
  },
  {
   "cell_type": "markdown",
   "metadata": {},
   "source": [
    "---\n",
    "\n",
    "## Case Study 2 : Personal Parameters vs Heart Disease\n",
    "\n",
    "\n",
    "### Import the Dataset\n",
    "\n",
    "The dataset is in CSV format; hence we use the `read_csv` function from Pandas.  \n",
    "Immediately after importing, take a quick look at the data using the `head` function."
   ]
  },
  {
   "cell_type": "code",
   "execution_count": null,
   "metadata": {},
   "outputs": [],
   "source": [
    "# Load the CSV file and check the format\n",
    "heartData = pd.read_csv('Heart.csv')\n",
    "heartData.head()"
   ]
  },
  {
   "cell_type": "markdown",
   "metadata": {},
   "source": [
    "Check the vital statistics of the dataset using the `type` and `shape` attributes."
   ]
  },
  {
   "cell_type": "code",
   "execution_count": null,
   "metadata": {},
   "outputs": [],
   "source": [
    "print(\"Data type : \", type(heartData))\n",
    "print(\"Data dims : \", heartData.shape)"
   ]
  },
  {
   "cell_type": "markdown",
   "metadata": {},
   "source": [
    "Check the variables (and their types) in the dataset using the `info()` method."
   ]
  },
  {
   "cell_type": "code",
   "execution_count": null,
   "metadata": {},
   "outputs": [],
   "source": [
    "heartData.info()"
   ]
  },
  {
   "cell_type": "markdown",
   "metadata": {},
   "source": [
    "*NOTE : At this stage, it is a good practice to study the data description, if available.*"
   ]
  },
  {
   "cell_type": "code",
   "execution_count": null,
   "metadata": {},
   "outputs": [],
   "source": []
  },
  {
   "cell_type": "markdown",
   "metadata": {},
   "source": [
    "### Format the Dataset\n",
    "\n",
    "Drop the `Unnamed: 0` column as it contributes nothing to the problem.   "
   ]
  },
  {
   "cell_type": "code",
   "execution_count": null,
   "metadata": {},
   "outputs": [],
   "source": [
    "# Drop the first column (axis = 1) by its name\n",
    "heartData = heartData.drop('Unnamed: 0', axis = 1)"
   ]
  },
  {
   "cell_type": "markdown",
   "metadata": {},
   "source": [
    "Drop the rows where values are missing in any column using `dropna()`.    \n",
    "You may instead choose the `fillna()` method to fill in missing values. "
   ]
  },
  {
   "cell_type": "code",
   "execution_count": null,
   "metadata": {},
   "outputs": [],
   "source": [
    "# Drop the rows with `NA` values\n",
    "heartData = heartData.dropna()"
   ]
  },
  {
   "cell_type": "markdown",
   "metadata": {},
   "source": [
    "Check the summary statistics to make sense of the data a little."
   ]
  },
  {
   "cell_type": "code",
   "execution_count": null,
   "metadata": {},
   "outputs": [],
   "source": [
    "heartData.describe()"
   ]
  },
  {
   "cell_type": "markdown",
   "metadata": {},
   "source": [
    "Convert the columns of type `object` to categorical data (factor) format.   "
   ]
  },
  {
   "cell_type": "code",
   "execution_count": null,
   "metadata": {},
   "outputs": [],
   "source": [
    "heartData[\"ChestPain\"] = heartData[\"ChestPain\"].astype('category')\n",
    "heartData[\"Thal\"] = heartData[\"Thal\"].astype('category')\n",
    "heartData[\"AHD\"] = heartData[\"AHD\"].astype('category')"
   ]
  },
  {
   "cell_type": "markdown",
   "metadata": {},
   "source": [
    "Convert the non-obvious *categorical* columns to `category` format as well.    \n",
    "You may use `nunique()` method on each column to identify *categoricals*.   "
   ]
  },
  {
   "cell_type": "code",
   "execution_count": null,
   "metadata": {},
   "outputs": [],
   "source": [
    "heartData[\"Chol\"].nunique()"
   ]
  },
  {
   "cell_type": "code",
   "execution_count": null,
   "metadata": {},
   "outputs": [],
   "source": [
    "heartData[\"Sex\"] = heartData[\"Sex\"].astype('category')\n",
    "heartData[\"Fbs\"] = heartData[\"Fbs\"].astype('category')\n",
    "heartData[\"RestECG\"] = heartData[\"RestECG\"].astype('category')\n",
    "heartData[\"ExAng\"] = heartData[\"ExAng\"].astype('category')\n",
    "heartData[\"Ca\"] = heartData[\"Ca\"].astype('category')\n",
    "heartData[\"Slope\"] = heartData[\"Slope\"].astype('category')"
   ]
  },
  {
   "cell_type": "markdown",
   "metadata": {},
   "source": [
    "Check the format and vital statistics of the modified dataframe."
   ]
  },
  {
   "cell_type": "code",
   "execution_count": null,
   "metadata": {},
   "outputs": [],
   "source": [
    "heartData.head()"
   ]
  },
  {
   "cell_type": "code",
   "execution_count": null,
   "metadata": {},
   "outputs": [],
   "source": [
    "heartData.info()"
   ]
  },
  {
   "cell_type": "code",
   "execution_count": null,
   "metadata": {},
   "outputs": [],
   "source": []
  },
  {
   "cell_type": "markdown",
   "metadata": {},
   "source": [
    "### Uni-Variate Exploration\n",
    "\n",
    "Let us take `AHD` as our target variable for the Uni-Variate analysis.    \n",
    "Check the Summary Statistics of Uni-Variate Series using `describe`."
   ]
  },
  {
   "cell_type": "code",
   "execution_count": null,
   "metadata": {},
   "outputs": [],
   "source": [
    "heartData[\"AHD\"].describe()"
   ]
  },
  {
   "cell_type": "markdown",
   "metadata": {},
   "source": [
    "Check the Summary Statistics visually using a standard `countplot`."
   ]
  },
  {
   "cell_type": "code",
   "execution_count": null,
   "metadata": {},
   "outputs": [],
   "source": [
    "print(heartData[\"AHD\"].value_counts())\n",
    "sb.countplot(y = \"AHD\", data = heartData)"
   ]
  },
  {
   "cell_type": "markdown",
   "metadata": {},
   "source": [
    "You may check the same for all categorical variables in the dataset.    \n",
    "Uni-Variate Summary Statistics for all numeric variables is as follows."
   ]
  },
  {
   "cell_type": "code",
   "execution_count": null,
   "metadata": {
    "scrolled": true
   },
   "outputs": [],
   "source": [
    "# Check summary statistics of all numeric variables\n",
    "heartData.describe()"
   ]
  },
  {
   "cell_type": "code",
   "execution_count": null,
   "metadata": {},
   "outputs": [],
   "source": []
  },
  {
   "cell_type": "markdown",
   "metadata": {},
   "source": [
    "### Multi-Variate Exploration\n",
    "\n",
    "Note that there is no natural notion for correlation apart from the numeric variables."
   ]
  },
  {
   "cell_type": "code",
   "execution_count": null,
   "metadata": {},
   "outputs": [],
   "source": [
    "# Correlation Matrix\n",
    "print(heartData.corr())"
   ]
  },
  {
   "cell_type": "code",
   "execution_count": null,
   "metadata": {},
   "outputs": [],
   "source": []
  },
  {
   "cell_type": "markdown",
   "metadata": {},
   "source": [
    "Let us consider `AHD` against `RestBP` first, as we think they may have a connection.   "
   ]
  },
  {
   "cell_type": "code",
   "execution_count": null,
   "metadata": {},
   "outputs": [],
   "source": [
    "# Boxplot of numeric variable against categorical variable\n",
    "f = plt.figure(figsize=(16, 4))\n",
    "sb.boxplot(x = \"RestBP\", y = \"AHD\", data = heartData)"
   ]
  },
  {
   "cell_type": "markdown",
   "metadata": {},
   "source": [
    "Let us consider `AHD` against `Chol` too, as we think they may have a connection.   "
   ]
  },
  {
   "cell_type": "code",
   "execution_count": null,
   "metadata": {},
   "outputs": [],
   "source": [
    "# Boxplot of numeric variable against categorical variable\n",
    "f = plt.figure(figsize=(16, 4))\n",
    "sb.boxplot(x = \"Chol\", y = \"AHD\", data = heartData)"
   ]
  },
  {
   "cell_type": "code",
   "execution_count": null,
   "metadata": {},
   "outputs": [],
   "source": []
  },
  {
   "cell_type": "markdown",
   "metadata": {},
   "source": [
    "Next, let us consider `AHD` against `ChestPain`, as it seems like an obvious connection.   "
   ]
  },
  {
   "cell_type": "code",
   "execution_count": null,
   "metadata": {},
   "outputs": [],
   "source": [
    "grouped = heartData.groupby(['AHD', 'ChestPain']).size().unstack()\n",
    "grouped"
   ]
  },
  {
   "cell_type": "code",
   "execution_count": null,
   "metadata": {},
   "outputs": [],
   "source": [
    "# Boxplot of numeric variable against categorical variable\n",
    "grouped = heartData.groupby(['AHD', 'ChestPain']).size().unstack()\n",
    "\n",
    "f, axes = plt.subplots(1, 1, figsize=(16, 6))\n",
    "sb.heatmap(grouped, linewidths = 1, annot = True, fmt = \".2f\", annot_kws = {\"size\": 18}, cmap = \"Greys\")\n",
    "axes.set_ylim(len(grouped), 0)  # temporary fix for heatmap\n",
    "plt.show()"
   ]
  },
  {
   "cell_type": "markdown",
   "metadata": {},
   "source": [
    "Next, let us consider `AHD` against `Sex`, to find if there is at all a connection.   "
   ]
  },
  {
   "cell_type": "code",
   "execution_count": null,
   "metadata": {},
   "outputs": [],
   "source": [
    "grouped = heartData.groupby(['AHD', 'Sex']).size().unstack()\n",
    "grouped"
   ]
  },
  {
   "cell_type": "code",
   "execution_count": null,
   "metadata": {},
   "outputs": [],
   "source": [
    "# Boxplot of numeric variable against categorical variable\n",
    "grouped = heartData.groupby(['AHD', 'Sex']).size().unstack()\n",
    "\n",
    "f, axes = plt.subplots(1, 1, figsize=(8, 6))\n",
    "sb.heatmap(grouped, linewidths = 1, annot = True, fmt = \".2f\", annot_kws = {\"size\": 18}, cmap = \"Greys\")\n",
    "axes.set_ylim(len(grouped), 0)  # temporary fix for heatmap\n",
    "plt.show()"
   ]
  },
  {
   "cell_type": "code",
   "execution_count": null,
   "metadata": {},
   "outputs": [],
   "source": []
  },
  {
   "cell_type": "code",
   "execution_count": null,
   "metadata": {},
   "outputs": [],
   "source": []
  },
  {
   "cell_type": "markdown",
   "metadata": {},
   "source": [
    "**Now it's time to take this basic Data Exploration forward, to prediction of `Sales` and `AHD` based on the two datasets.**"
   ]
  },
  {
   "cell_type": "code",
   "execution_count": null,
   "metadata": {},
   "outputs": [],
   "source": []
  },
  {
   "cell_type": "code",
   "execution_count": null,
   "metadata": {},
   "outputs": [],
   "source": []
  }
 ],
 "metadata": {
  "kernelspec": {
   "display_name": "Python 3",
   "language": "python",
   "name": "python3"
  },
  "language_info": {
   "codemirror_mode": {
    "name": "ipython",
    "version": 3
   },
   "file_extension": ".py",
   "mimetype": "text/x-python",
   "name": "python",
   "nbconvert_exporter": "python",
   "pygments_lexer": "ipython3",
   "version": "3.7.4"
  }
 },
 "nbformat": 4,
 "nbformat_minor": 2
}
